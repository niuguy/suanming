{
 "cells": [
  {
   "cell_type": "code",
   "execution_count": 2,
   "metadata": {},
   "outputs": [],
   "source": [
    "import pandas as pd\n",
    "import _pickle as pickle\n",
    "import numpy as np"
   ]
  },
  {
   "cell_type": "code",
   "execution_count": 3,
   "metadata": {},
   "outputs": [],
   "source": [
    "def load_data(filename='dataset/dtoc.pkl'):\n",
    "    pd_dtoc = pickle.load(open(filename, 'rb'))\n",
    "    return pd_dtoc"
   ]
  },
  {
   "cell_type": "code",
   "execution_count": 4,
   "metadata": {},
   "outputs": [],
   "source": [
    "df = load_data(filename='dataset/dtoc_proc.pkl') "
   ]
  },
  {
   "cell_type": "code",
   "execution_count": 5,
   "metadata": {},
   "outputs": [],
   "source": [
    "dtoc = df[df['is_dtoc']==1]"
   ]
  },
  {
   "cell_type": "code",
   "execution_count": 9,
   "metadata": {},
   "outputs": [
    {
     "data": {
      "text/html": [
       "<div>\n",
       "<style scoped>\n",
       "    .dataframe tbody tr th:only-of-type {\n",
       "        vertical-align: middle;\n",
       "    }\n",
       "\n",
       "    .dataframe tbody tr th {\n",
       "        vertical-align: top;\n",
       "    }\n",
       "\n",
       "    .dataframe thead th {\n",
       "        text-align: right;\n",
       "    }\n",
       "</style>\n",
       "<table border=\"1\" class=\"dataframe\">\n",
       "  <thead>\n",
       "    <tr style=\"text-align: right;\">\n",
       "      <th></th>\n",
       "      <th>diag1</th>\n",
       "      <th>diag2</th>\n",
       "      <th>diag3</th>\n",
       "      <th>diag4</th>\n",
       "      <th>diag5</th>\n",
       "      <th>diag6</th>\n",
       "      <th>diag7</th>\n",
       "      <th>diag8</th>\n",
       "      <th>diag9</th>\n",
       "      <th>diag10</th>\n",
       "      <th>diag11</th>\n",
       "      <th>diag12</th>\n",
       "    </tr>\n",
       "  </thead>\n",
       "  <tbody>\n",
       "    <tr>\n",
       "      <th>104685</th>\n",
       "      <td>I64X</td>\n",
       "      <td>I48X</td>\n",
       "      <td>I10X</td>\n",
       "      <td>G309</td>\n",
       "      <td>E119</td>\n",
       "      <td>E669</td>\n",
       "      <td>H919</td>\n",
       "      <td>N189</td>\n",
       "      <td>None</td>\n",
       "      <td>None</td>\n",
       "      <td>None</td>\n",
       "      <td>None</td>\n",
       "    </tr>\n",
       "    <tr>\n",
       "      <th>116072</th>\n",
       "      <td>S7210</td>\n",
       "      <td>W199</td>\n",
       "      <td>J189</td>\n",
       "      <td>Y95X</td>\n",
       "      <td>I830</td>\n",
       "      <td>E876</td>\n",
       "      <td>A099</td>\n",
       "      <td>E86X</td>\n",
       "      <td>I10X</td>\n",
       "      <td>F329</td>\n",
       "      <td>None</td>\n",
       "      <td>None</td>\n",
       "    </tr>\n",
       "    <tr>\n",
       "      <th>118201</th>\n",
       "      <td>S7200</td>\n",
       "      <td>W191</td>\n",
       "      <td>G309+</td>\n",
       "      <td>F009*</td>\n",
       "      <td>E119</td>\n",
       "      <td>I10X</td>\n",
       "      <td>Z950</td>\n",
       "      <td>None</td>\n",
       "      <td>None</td>\n",
       "      <td>None</td>\n",
       "      <td>None</td>\n",
       "      <td>None</td>\n",
       "    </tr>\n",
       "    <tr>\n",
       "      <th>119869</th>\n",
       "      <td>J841</td>\n",
       "      <td>J22X</td>\n",
       "      <td>I48X</td>\n",
       "      <td>I500</td>\n",
       "      <td>D509</td>\n",
       "      <td>I259</td>\n",
       "      <td>I252</td>\n",
       "      <td>N189</td>\n",
       "      <td>I10X</td>\n",
       "      <td>I48X</td>\n",
       "      <td>Z921</td>\n",
       "      <td>None</td>\n",
       "    </tr>\n",
       "    <tr>\n",
       "      <th>122179</th>\n",
       "      <td>I639</td>\n",
       "      <td>G819</td>\n",
       "      <td>G510</td>\n",
       "      <td>R470</td>\n",
       "      <td>H161</td>\n",
       "      <td>N390</td>\n",
       "      <td>Z501</td>\n",
       "      <td>Z505</td>\n",
       "      <td>Z507</td>\n",
       "      <td>C809</td>\n",
       "      <td>C795</td>\n",
       "      <td>Z931</td>\n",
       "    </tr>\n",
       "    <tr>\n",
       "      <th>122244</th>\n",
       "      <td>S7230</td>\n",
       "      <td>W192</td>\n",
       "      <td>C809</td>\n",
       "      <td>C799</td>\n",
       "      <td>D649</td>\n",
       "      <td>M199</td>\n",
       "      <td>M819</td>\n",
       "      <td>Z853</td>\n",
       "      <td>None</td>\n",
       "      <td>None</td>\n",
       "      <td>None</td>\n",
       "      <td>None</td>\n",
       "    </tr>\n",
       "    <tr>\n",
       "      <th>125038</th>\n",
       "      <td>I639</td>\n",
       "      <td>I678</td>\n",
       "      <td>I10X</td>\n",
       "      <td>None</td>\n",
       "      <td>None</td>\n",
       "      <td>None</td>\n",
       "      <td>None</td>\n",
       "      <td>None</td>\n",
       "      <td>None</td>\n",
       "      <td>None</td>\n",
       "      <td>None</td>\n",
       "      <td>None</td>\n",
       "    </tr>\n",
       "    <tr>\n",
       "      <th>127417</th>\n",
       "      <td>J189</td>\n",
       "      <td>Y95X</td>\n",
       "      <td>N185</td>\n",
       "      <td>Z491</td>\n",
       "      <td>G629</td>\n",
       "      <td>E143+</td>\n",
       "      <td>H360*</td>\n",
       "      <td>None</td>\n",
       "      <td>None</td>\n",
       "      <td>None</td>\n",
       "      <td>None</td>\n",
       "      <td>None</td>\n",
       "    </tr>\n",
       "    <tr>\n",
       "      <th>127484</th>\n",
       "      <td>I639</td>\n",
       "      <td>I48X</td>\n",
       "      <td>R798</td>\n",
       "      <td>L893</td>\n",
       "      <td>F051</td>\n",
       "      <td>F329</td>\n",
       "      <td>None</td>\n",
       "      <td>None</td>\n",
       "      <td>None</td>\n",
       "      <td>None</td>\n",
       "      <td>None</td>\n",
       "      <td>None</td>\n",
       "    </tr>\n",
       "    <tr>\n",
       "      <th>129528</th>\n",
       "      <td>R410</td>\n",
       "      <td>F059</td>\n",
       "      <td>I10X</td>\n",
       "      <td>I259</td>\n",
       "      <td>None</td>\n",
       "      <td>None</td>\n",
       "      <td>None</td>\n",
       "      <td>None</td>\n",
       "      <td>None</td>\n",
       "      <td>None</td>\n",
       "      <td>None</td>\n",
       "      <td>None</td>\n",
       "    </tr>\n",
       "  </tbody>\n",
       "</table>\n",
       "</div>"
      ],
      "text/plain": [
       "        diag1 diag2  diag3  diag4 diag5  diag6  diag7 diag8 diag9 diag10  \\\n",
       "104685   I64X  I48X   I10X   G309  E119   E669   H919  N189  None   None   \n",
       "116072  S7210  W199   J189   Y95X  I830   E876   A099  E86X  I10X   F329   \n",
       "118201  S7200  W191  G309+  F009*  E119   I10X   Z950  None  None   None   \n",
       "119869   J841  J22X   I48X   I500  D509   I259   I252  N189  I10X   I48X   \n",
       "122179   I639  G819   G510   R470  H161   N390   Z501  Z505  Z507   C809   \n",
       "122244  S7230  W192   C809   C799  D649   M199   M819  Z853  None   None   \n",
       "125038   I639  I678   I10X   None  None   None   None  None  None   None   \n",
       "127417   J189  Y95X   N185   Z491  G629  E143+  H360*  None  None   None   \n",
       "127484   I639  I48X   R798   L893  F051   F329   None  None  None   None   \n",
       "129528   R410  F059   I10X   I259  None   None   None  None  None   None   \n",
       "\n",
       "       diag11 diag12  \n",
       "104685   None   None  \n",
       "116072   None   None  \n",
       "118201   None   None  \n",
       "119869   Z921   None  \n",
       "122179   C795   Z931  \n",
       "122244   None   None  \n",
       "125038   None   None  \n",
       "127417   None   None  \n",
       "127484   None   None  \n",
       "129528   None   None  "
      ]
     },
     "execution_count": 9,
     "metadata": {},
     "output_type": "execute_result"
    }
   ],
   "source": [
    "dtoc[['diag1','diag2','diag3','diag4','diag5','diag6', \n",
    "        'diag7', 'diag8', 'diag9','diag10', 'diag11', 'diag12']].head(10)"
   ]
  },
  {
   "cell_type": "code",
   "execution_count": 19,
   "metadata": {},
   "outputs": [
    {
     "data": {
      "text/plain": [
       "Index(['J181', 'N390', 'S7200', 'I639', 'J189', 'R296', 'A419', 'N179', 'F03X',\n",
       "       'I500',\n",
       "       ...\n",
       "       'R521', 'L120', 'M500+', 'I81X', 'A409', 'A408', 'G619', 'T846', 'H313',\n",
       "       'K804'],\n",
       "      dtype='object', length=673)"
      ]
     },
     "execution_count": 19,
     "metadata": {},
     "output_type": "execute_result"
    }
   ],
   "source": [
    "dtoc.diag1.value_counts().keys()"
   ]
  },
  {
   "cell_type": "code",
   "execution_count": 27,
   "metadata": {},
   "outputs": [
    {
     "data": {
      "text/plain": [
       "<matplotlib.axes._subplots.AxesSubplot at 0x125067080>"
      ]
     },
     "execution_count": 27,
     "metadata": {},
     "output_type": "execute_result"
    },
    {
     "data": {
      "image/png": "[encoded data removed]",
      "text/plain": [
       "<Figure size 864x576 with 1 Axes>"
      ]
     },
     "metadata": {
      "needs_background": "light"
     },
     "output_type": "display_data"
    }
   ],
   "source": [
    "dtoc.diag1.value_counts().head(20).plot.bar(figsize=(12,8),title='Dtoc top diagnoses statistics')"
   ]
  },
  {
   "cell_type": "code",
   "execution_count": 33,
   "metadata": {},
   "outputs": [
    {
     "data": {
      "text/plain": [
       "<matplotlib.axes._subplots.AxesSubplot at 0x121adc9e8>"
      ]
     },
     "execution_count": 33,
     "metadata": {},
     "output_type": "execute_result"
    },
    {
     "data": {
      "image/png": "[encoded data removed]",
      "text/plain": [
       "<Figure size 864x576 with 1 Axes>"
      ]
     },
     "metadata": {
      "needs_background": "light"
     },
     "output_type": "display_data"
    }
   ],
   "source": [
    "dtoc.age.value_counts().plot.bar(figsize=(12,8),title='Dtoc ages statistics')"
   ]
  },
  {
   "cell_type": "code",
   "execution_count": null,
   "metadata": {},
   "outputs": [],
   "source": []
  }
 ],
 "metadata": {
  "kernelspec": {
   "display_name": "Python 3",
   "language": "python",
   "name": "python3"
  },
  "language_info": {
   "codemirror_mode": {
    "name": "ipython",
    "version": 3
   },
   "file_extension": ".py",
   "mimetype": "text/x-python",
   "name": "python",
   "nbconvert_exporter": "python",
   "pygments_lexer": "ipython3",
   "version": "3.7.2"
  }
 },
 "nbformat": 4,
 "nbformat_minor": 2
}
